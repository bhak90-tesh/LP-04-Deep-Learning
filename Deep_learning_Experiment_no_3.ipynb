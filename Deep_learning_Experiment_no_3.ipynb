{
 "cells": [
  {
   "cell_type": "code",
   "execution_count": 18,
   "id": "4c999f04",
   "metadata": {},
   "outputs": [],
   "source": [
    "import numpy as np\n",
    "import pandas as pd\n",
    "\n",
    "import tensorflow as tf\n",
    "from tensorflow.keras import models, layers\n",
    "from sklearn.model_selection import train_test_split\n",
    "from sklearn.preprocessing import StandardScaler\n",
    "\n",
    "import matplotlib.pyplot as plt"
   ]
  },
  {
   "cell_type": "code",
   "execution_count": 20,
   "id": "caed06c3",
   "metadata": {},
   "outputs": [
    {
     "data": {
      "text/html": [
       "<div>\n",
       "<style scoped>\n",
       "    .dataframe tbody tr th:only-of-type {\n",
       "        vertical-align: middle;\n",
       "    }\n",
       "\n",
       "    .dataframe tbody tr th {\n",
       "        vertical-align: top;\n",
       "    }\n",
       "\n",
       "    .dataframe thead th {\n",
       "        text-align: right;\n",
       "    }\n",
       "</style>\n",
       "<table border=\"1\" class=\"dataframe\">\n",
       "  <thead>\n",
       "    <tr style=\"text-align: right;\">\n",
       "      <th></th>\n",
       "      <th>-0.11252183</th>\n",
       "      <th>-2.8272038</th>\n",
       "      <th>-3.7738969</th>\n",
       "      <th>-4.3497511</th>\n",
       "      <th>-4.376041</th>\n",
       "      <th>-3.4749863</th>\n",
       "      <th>-2.1814082</th>\n",
       "      <th>-1.8182865</th>\n",
       "      <th>-1.2505219</th>\n",
       "      <th>-0.47749208</th>\n",
       "      <th>...</th>\n",
       "      <th>0.79216787</th>\n",
       "      <th>0.93354122</th>\n",
       "      <th>0.79695779</th>\n",
       "      <th>0.57862066</th>\n",
       "      <th>0.2577399</th>\n",
       "      <th>0.22807718</th>\n",
       "      <th>0.12343082</th>\n",
       "      <th>0.92528624</th>\n",
       "      <th>0.19313742</th>\n",
       "      <th>1.0</th>\n",
       "    </tr>\n",
       "  </thead>\n",
       "  <tbody>\n",
       "    <tr>\n",
       "      <th>0</th>\n",
       "      <td>-1.100878</td>\n",
       "      <td>-3.996840</td>\n",
       "      <td>-4.285843</td>\n",
       "      <td>-4.506579</td>\n",
       "      <td>-4.022377</td>\n",
       "      <td>-3.234368</td>\n",
       "      <td>-1.566126</td>\n",
       "      <td>-0.992258</td>\n",
       "      <td>-0.754680</td>\n",
       "      <td>0.042321</td>\n",
       "      <td>...</td>\n",
       "      <td>0.538356</td>\n",
       "      <td>0.656881</td>\n",
       "      <td>0.787490</td>\n",
       "      <td>0.724046</td>\n",
       "      <td>0.555784</td>\n",
       "      <td>0.476333</td>\n",
       "      <td>0.773820</td>\n",
       "      <td>1.119621</td>\n",
       "      <td>-1.436250</td>\n",
       "      <td>1.0</td>\n",
       "    </tr>\n",
       "    <tr>\n",
       "      <th>1</th>\n",
       "      <td>-0.567088</td>\n",
       "      <td>-2.593450</td>\n",
       "      <td>-3.874230</td>\n",
       "      <td>-4.584095</td>\n",
       "      <td>-4.187449</td>\n",
       "      <td>-3.151462</td>\n",
       "      <td>-1.742940</td>\n",
       "      <td>-1.490659</td>\n",
       "      <td>-1.183580</td>\n",
       "      <td>-0.394229</td>\n",
       "      <td>...</td>\n",
       "      <td>0.886073</td>\n",
       "      <td>0.531452</td>\n",
       "      <td>0.311377</td>\n",
       "      <td>-0.021919</td>\n",
       "      <td>-0.713683</td>\n",
       "      <td>-0.532197</td>\n",
       "      <td>0.321097</td>\n",
       "      <td>0.904227</td>\n",
       "      <td>-0.421797</td>\n",
       "      <td>1.0</td>\n",
       "    </tr>\n",
       "    <tr>\n",
       "      <th>2</th>\n",
       "      <td>0.490473</td>\n",
       "      <td>-1.914407</td>\n",
       "      <td>-3.616364</td>\n",
       "      <td>-4.318823</td>\n",
       "      <td>-4.268016</td>\n",
       "      <td>-3.881110</td>\n",
       "      <td>-2.993280</td>\n",
       "      <td>-1.671131</td>\n",
       "      <td>-1.333884</td>\n",
       "      <td>-0.965629</td>\n",
       "      <td>...</td>\n",
       "      <td>0.350816</td>\n",
       "      <td>0.499111</td>\n",
       "      <td>0.600345</td>\n",
       "      <td>0.842069</td>\n",
       "      <td>0.952074</td>\n",
       "      <td>0.990133</td>\n",
       "      <td>1.086798</td>\n",
       "      <td>1.403011</td>\n",
       "      <td>-0.383564</td>\n",
       "      <td>1.0</td>\n",
       "    </tr>\n",
       "    <tr>\n",
       "      <th>3</th>\n",
       "      <td>0.800232</td>\n",
       "      <td>-0.874252</td>\n",
       "      <td>-2.384761</td>\n",
       "      <td>-3.973292</td>\n",
       "      <td>-4.338224</td>\n",
       "      <td>-3.802422</td>\n",
       "      <td>-2.534510</td>\n",
       "      <td>-1.783423</td>\n",
       "      <td>-1.594450</td>\n",
       "      <td>-0.753199</td>\n",
       "      <td>...</td>\n",
       "      <td>1.148884</td>\n",
       "      <td>0.958434</td>\n",
       "      <td>1.059025</td>\n",
       "      <td>1.371682</td>\n",
       "      <td>1.277392</td>\n",
       "      <td>0.960304</td>\n",
       "      <td>0.971020</td>\n",
       "      <td>1.614392</td>\n",
       "      <td>1.421456</td>\n",
       "      <td>1.0</td>\n",
       "    </tr>\n",
       "    <tr>\n",
       "      <th>4</th>\n",
       "      <td>-1.507674</td>\n",
       "      <td>-3.574550</td>\n",
       "      <td>-4.478011</td>\n",
       "      <td>-4.408275</td>\n",
       "      <td>-3.321242</td>\n",
       "      <td>-2.105171</td>\n",
       "      <td>-1.481048</td>\n",
       "      <td>-1.301362</td>\n",
       "      <td>-0.498240</td>\n",
       "      <td>-0.286928</td>\n",
       "      <td>...</td>\n",
       "      <td>1.089068</td>\n",
       "      <td>0.983369</td>\n",
       "      <td>1.014124</td>\n",
       "      <td>0.952629</td>\n",
       "      <td>0.749326</td>\n",
       "      <td>1.007076</td>\n",
       "      <td>1.634990</td>\n",
       "      <td>1.493365</td>\n",
       "      <td>-0.783134</td>\n",
       "      <td>1.0</td>\n",
       "    </tr>\n",
       "  </tbody>\n",
       "</table>\n",
       "<p>5 rows × 141 columns</p>\n",
       "</div>"
      ],
      "text/plain": [
       "   -0.11252183  -2.8272038  -3.7738969  -4.3497511  -4.376041  -3.4749863  \\\n",
       "0    -1.100878   -3.996840   -4.285843   -4.506579  -4.022377   -3.234368   \n",
       "1    -0.567088   -2.593450   -3.874230   -4.584095  -4.187449   -3.151462   \n",
       "2     0.490473   -1.914407   -3.616364   -4.318823  -4.268016   -3.881110   \n",
       "3     0.800232   -0.874252   -2.384761   -3.973292  -4.338224   -3.802422   \n",
       "4    -1.507674   -3.574550   -4.478011   -4.408275  -3.321242   -2.105171   \n",
       "\n",
       "   -2.1814082  -1.8182865  -1.2505219  -0.47749208  ...  0.79216787  \\\n",
       "0   -1.566126   -0.992258   -0.754680     0.042321  ...    0.538356   \n",
       "1   -1.742940   -1.490659   -1.183580    -0.394229  ...    0.886073   \n",
       "2   -2.993280   -1.671131   -1.333884    -0.965629  ...    0.350816   \n",
       "3   -2.534510   -1.783423   -1.594450    -0.753199  ...    1.148884   \n",
       "4   -1.481048   -1.301362   -0.498240    -0.286928  ...    1.089068   \n",
       "\n",
       "   0.93354122  0.79695779  0.57862066  0.2577399  0.22807718  0.12343082  \\\n",
       "0    0.656881    0.787490    0.724046   0.555784    0.476333    0.773820   \n",
       "1    0.531452    0.311377   -0.021919  -0.713683   -0.532197    0.321097   \n",
       "2    0.499111    0.600345    0.842069   0.952074    0.990133    1.086798   \n",
       "3    0.958434    1.059025    1.371682   1.277392    0.960304    0.971020   \n",
       "4    0.983369    1.014124    0.952629   0.749326    1.007076    1.634990   \n",
       "\n",
       "   0.92528624  0.19313742  1.0  \n",
       "0    1.119621   -1.436250  1.0  \n",
       "1    0.904227   -0.421797  1.0  \n",
       "2    1.403011   -0.383564  1.0  \n",
       "3    1.614392    1.421456  1.0  \n",
       "4    1.493365   -0.783134  1.0  \n",
       "\n",
       "[5 rows x 141 columns]"
      ]
     },
     "execution_count": 20,
     "metadata": {},
     "output_type": "execute_result"
    }
   ],
   "source": [
    "df=pd.read_csv(\"ecg.csv\")\n",
    "\n",
    "df.head()"
   ]
  },
  {
   "cell_type": "code",
   "execution_count": 22,
   "id": "546785ef",
   "metadata": {},
   "outputs": [],
   "source": [
    "X=df.iloc[:,:-1].values\n",
    "y=df.iloc[:,:-1].values"
   ]
  },
  {
   "cell_type": "code",
   "execution_count": 24,
   "id": "57480f04",
   "metadata": {},
   "outputs": [],
   "source": [
    "scaler = StandardScaler()\n",
    "\n",
    "X_scaled = scaler.fit_transform(X)"
   ]
  },
  {
   "cell_type": "code",
   "execution_count": 26,
   "id": "9cd62a09",
   "metadata": {},
   "outputs": [],
   "source": [
    "X_train,X_test=train_test_split(X_scaled,test_size=0.2,random_state=42)"
   ]
  },
  {
   "cell_type": "code",
   "execution_count": 28,
   "id": "57ff5c3d",
   "metadata": {},
   "outputs": [],
   "source": [
    "X_train=X_train.reshape(X_train.shape[0],X_train.shape[1],1)\n",
    "X_test=X_test.reshape(X_test.shape[0],X_test.shape[1],1)"
   ]
  },
  {
   "cell_type": "code",
   "execution_count": 32,
   "id": "f77f89a0",
   "metadata": {},
   "outputs": [],
   "source": [
    "input_layer=layers.Input(shape=(X_train.shape[1],1))\n",
    "x=layers.Conv1D(32,3,activation='relu',padding='same')(input_layer)\n",
    "x=layers.MaxPooling1D(2,padding='same')(x)\n",
    "x=layers.Conv1D(16,3,activation='relu',padding='same')(x)\n",
    "encoded=layers.MaxPooling1D(2,padding='same')(x)\n",
    "\n",
    "x=layers.Conv1D(16,3,activation='relu',padding='same')(encoded)\n",
    "x=layers.UpSampling1D(2)(x)\n",
    "x=layers.Conv1D(32,3,activation='relu',padding='same')(x)\n",
    "x=layers.UpSampling1D(2)(x)\n",
    "\n",
    "decoded= layers.Conv1D(1,3,activation='sigmoid',padding='same')(x)"
   ]
  },
  {
   "cell_type": "code",
   "execution_count": 35,
   "id": "511ec53b",
   "metadata": {},
   "outputs": [],
   "source": [
    "autoencoder=models.Model(input_layer,decoded)\n",
    "\n",
    "encoder=models.Model(input_layer,encoded)\n",
    "\n",
    "autoencoder.compile(optimizer='adam',loss='mse',metrics=['accuracy'])\n"
   ]
  },
  {
   "cell_type": "code",
   "execution_count": 37,
   "id": "ddb9f76a",
   "metadata": {},
   "outputs": [
    {
     "name": "stdout",
     "output_type": "stream",
     "text": [
      "Epoch 1/10\n",
      "\u001b[1m32/32\u001b[0m \u001b[32m━━━━━━━━━━━━━━━━━━━━\u001b[0m\u001b[37m\u001b[0m \u001b[1m1s\u001b[0m 43ms/step - accuracy: 0.0000e+00 - loss: 0.6991 - val_accuracy: 0.0000e+00 - val_loss: 0.7023\n",
      "Epoch 2/10\n",
      "\u001b[1m32/32\u001b[0m \u001b[32m━━━━━━━━━━━━━━━━━━━━\u001b[0m\u001b[37m\u001b[0m \u001b[1m1s\u001b[0m 24ms/step - accuracy: 0.0000e+00 - loss: 0.6152 - val_accuracy: 0.0000e+00 - val_loss: 0.6890\n",
      "Epoch 3/10\n",
      "\u001b[1m32/32\u001b[0m \u001b[32m━━━━━━━━━━━━━━━━━━━━\u001b[0m\u001b[37m\u001b[0m \u001b[1m1s\u001b[0m 27ms/step - accuracy: 0.0000e+00 - loss: 0.6242 - val_accuracy: 0.0000e+00 - val_loss: 0.6849\n",
      "Epoch 4/10\n",
      "\u001b[1m32/32\u001b[0m \u001b[32m━━━━━━━━━━━━━━━━━━━━\u001b[0m\u001b[37m\u001b[0m \u001b[1m1s\u001b[0m 24ms/step - accuracy: 0.0000e+00 - loss: 0.6312 - val_accuracy: 0.0000e+00 - val_loss: 0.6829\n",
      "Epoch 5/10\n",
      "\u001b[1m32/32\u001b[0m \u001b[32m━━━━━━━━━━━━━━━━━━━━\u001b[0m\u001b[37m\u001b[0m \u001b[1m1s\u001b[0m 24ms/step - accuracy: 0.0000e+00 - loss: 0.5994 - val_accuracy: 0.0000e+00 - val_loss: 0.6815\n",
      "Epoch 6/10\n",
      "\u001b[1m32/32\u001b[0m \u001b[32m━━━━━━━━━━━━━━━━━━━━\u001b[0m\u001b[37m\u001b[0m \u001b[1m1s\u001b[0m 28ms/step - accuracy: 0.0000e+00 - loss: 0.6138 - val_accuracy: 0.0000e+00 - val_loss: 0.6801\n",
      "Epoch 7/10\n",
      "\u001b[1m32/32\u001b[0m \u001b[32m━━━━━━━━━━━━━━━━━━━━\u001b[0m\u001b[37m\u001b[0m \u001b[1m1s\u001b[0m 27ms/step - accuracy: 0.0000e+00 - loss: 0.6068 - val_accuracy: 0.0000e+00 - val_loss: 0.6790\n",
      "Epoch 8/10\n",
      "\u001b[1m32/32\u001b[0m \u001b[32m━━━━━━━━━━━━━━━━━━━━\u001b[0m\u001b[37m\u001b[0m \u001b[1m1s\u001b[0m 23ms/step - accuracy: 0.0000e+00 - loss: 0.6132 - val_accuracy: 0.0000e+00 - val_loss: 0.6780\n",
      "Epoch 9/10\n",
      "\u001b[1m32/32\u001b[0m \u001b[32m━━━━━━━━━━━━━━━━━━━━\u001b[0m\u001b[37m\u001b[0m \u001b[1m1s\u001b[0m 24ms/step - accuracy: 0.0000e+00 - loss: 0.6112 - val_accuracy: 0.0000e+00 - val_loss: 0.6769\n",
      "Epoch 10/10\n",
      "\u001b[1m32/32\u001b[0m \u001b[32m━━━━━━━━━━━━━━━━━━━━\u001b[0m\u001b[37m\u001b[0m \u001b[1m1s\u001b[0m 23ms/step - accuracy: 0.0000e+00 - loss: 0.6116 - val_accuracy: 0.0000e+00 - val_loss: 0.6761\n"
     ]
    }
   ],
   "source": [
    "history=autoencoder.fit(X_train,X_train,epochs=10,batch_size=128,validation_data=(X_test,X_test))"
   ]
  },
  {
   "cell_type": "code",
   "execution_count": 42,
   "id": "dcad6f0a",
   "metadata": {},
   "outputs": [
    {
     "name": "stdout",
     "output_type": "stream",
     "text": [
      "\u001b[1m32/32\u001b[0m \u001b[32m━━━━━━━━━━━━━━━━━━━━\u001b[0m\u001b[37m\u001b[0m \u001b[1m0s\u001b[0m 5ms/step\n"
     ]
    },
    {
     "data": {
      "image/png": "[encoded data removed]",
      "text/plain": [
       "<Figure size 640x480 with 1 Axes>"
      ]
     },
     "metadata": {},
     "output_type": "display_data"
    },
    {
     "name": "stdout",
     "output_type": "stream",
     "text": [
      "[ 32  73  75  82  83 131 153 154 167 179 189 190 247 248 275 303 321 341\n",
      " 346 350 365 368 379 384 399 476 509 553 558 562 564 567 590 601 631 684\n",
      " 704 734 743 745 759 794 876 895 935 939 948 957 987 988]\n"
     ]
    }
   ],
   "source": [
    "error=autoencoder.predict(X_test)\n",
    "recon_error = np.mean(np.power(X_test-error,2),axis=1)\n",
    "\n",
    "threshold=np.percentile(recon_error,95)\n",
    "\n",
    "anomalies=recon_error > threshold\n",
    "\n",
    "plt.plot(recon_error)\n",
    "plt.title(\"Error loss Func()\")\n",
    "plt.show()\n",
    "\n",
    "\n",
    "print(np.where(anomalies)[0])"
   ]
  },
  {
   "cell_type": "code",
   "execution_count": null,
   "id": "b6f82d73",
   "metadata": {},
   "outputs": [],
   "source": []
  }
 ],
 "metadata": {
  "kernelspec": {
   "display_name": "Python 3 (ipykernel)",
   "language": "python",
   "name": "python3"
  },
  "language_info": {
   "codemirror_mode": {
    "name": "ipython",
    "version": 3
   },
   "file_extension": ".py",
   "mimetype": "text/x-python",
   "name": "python",
   "nbconvert_exporter": "python",
   "pygments_lexer": "ipython3",
   "version": "3.11.4"
  }
 },
 "nbformat": 4,
 "nbformat_minor": 5
}
